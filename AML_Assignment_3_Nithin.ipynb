{
  "cells": [
    {
      "cell_type": "markdown",
      "metadata": {
        "id": "iSsF-dG8-x-9"
      },
      "source": [
        "**Applying RNN to Time-Series Data**"
      ]
    },
    {
      "cell_type": "markdown",
      "metadata": {
        "id": "bi91Eg3N-x-9"
      },
      "source": [
        "Taking weather forecasting data"
      ]
    },
    {
      "cell_type": "code",
      "source": [
        "!pip install tensorflow==2.15"
      ],
      "metadata": {
        "id": "wbqZrjjDzHe5",
        "colab": {
          "base_uri": "https://localhost:8080/"
        },
        "outputId": "cf161248-5367-4558-badb-70c58c7fee53"
      },
      "execution_count": 3,
      "outputs": [
        {
          "output_type": "stream",
          "name": "stdout",
          "text": [
            "Requirement already satisfied: tensorflow==2.15 in /usr/local/lib/python3.10/dist-packages (2.15.0)\n",
            "Requirement already satisfied: absl-py>=1.0.0 in /usr/local/lib/python3.10/dist-packages (from tensorflow==2.15) (1.4.0)\n",
            "Requirement already satisfied: astunparse>=1.6.0 in /usr/local/lib/python3.10/dist-packages (from tensorflow==2.15) (1.6.3)\n",
            "Requirement already satisfied: flatbuffers>=23.5.26 in /usr/local/lib/python3.10/dist-packages (from tensorflow==2.15) (24.3.25)\n",
            "Requirement already satisfied: gast!=0.5.0,!=0.5.1,!=0.5.2,>=0.2.1 in /usr/local/lib/python3.10/dist-packages (from tensorflow==2.15) (0.6.0)\n",
            "Requirement already satisfied: google-pasta>=0.1.1 in /usr/local/lib/python3.10/dist-packages (from tensorflow==2.15) (0.2.0)\n",
            "Requirement already satisfied: h5py>=2.9.0 in /usr/local/lib/python3.10/dist-packages (from tensorflow==2.15) (3.9.0)\n",
            "Requirement already satisfied: libclang>=13.0.0 in /usr/local/lib/python3.10/dist-packages (from tensorflow==2.15) (18.1.1)\n",
            "Requirement already satisfied: ml-dtypes~=0.2.0 in /usr/local/lib/python3.10/dist-packages (from tensorflow==2.15) (0.2.0)\n",
            "Requirement already satisfied: numpy<2.0.0,>=1.23.5 in /usr/local/lib/python3.10/dist-packages (from tensorflow==2.15) (1.25.2)\n",
            "Requirement already satisfied: opt-einsum>=2.3.2 in /usr/local/lib/python3.10/dist-packages (from tensorflow==2.15) (3.3.0)\n",
            "Requirement already satisfied: packaging in /usr/local/lib/python3.10/dist-packages (from tensorflow==2.15) (24.1)\n",
            "Requirement already satisfied: protobuf!=4.21.0,!=4.21.1,!=4.21.2,!=4.21.3,!=4.21.4,!=4.21.5,<5.0.0dev,>=3.20.3 in /usr/local/lib/python3.10/dist-packages (from tensorflow==2.15) (3.20.3)\n",
            "Requirement already satisfied: setuptools in /usr/local/lib/python3.10/dist-packages (from tensorflow==2.15) (67.7.2)\n",
            "Requirement already satisfied: six>=1.12.0 in /usr/local/lib/python3.10/dist-packages (from tensorflow==2.15) (1.16.0)\n",
            "Requirement already satisfied: termcolor>=1.1.0 in /usr/local/lib/python3.10/dist-packages (from tensorflow==2.15) (2.4.0)\n",
            "Requirement already satisfied: typing-extensions>=3.6.6 in /usr/local/lib/python3.10/dist-packages (from tensorflow==2.15) (4.12.2)\n",
            "Requirement already satisfied: wrapt<1.15,>=1.11.0 in /usr/local/lib/python3.10/dist-packages (from tensorflow==2.15) (1.14.1)\n",
            "Requirement already satisfied: tensorflow-io-gcs-filesystem>=0.23.1 in /usr/local/lib/python3.10/dist-packages (from tensorflow==2.15) (0.37.1)\n",
            "Requirement already satisfied: grpcio<2.0,>=1.24.3 in /usr/local/lib/python3.10/dist-packages (from tensorflow==2.15) (1.64.1)\n",
            "Requirement already satisfied: tensorboard<2.16,>=2.15 in /usr/local/lib/python3.10/dist-packages (from tensorflow==2.15) (2.15.2)\n",
            "Requirement already satisfied: tensorflow-estimator<2.16,>=2.15.0 in /usr/local/lib/python3.10/dist-packages (from tensorflow==2.15) (2.15.0)\n",
            "Requirement already satisfied: keras<2.16,>=2.15.0 in /usr/local/lib/python3.10/dist-packages (from tensorflow==2.15) (2.15.0)\n",
            "Requirement already satisfied: wheel<1.0,>=0.23.0 in /usr/local/lib/python3.10/dist-packages (from astunparse>=1.6.0->tensorflow==2.15) (0.43.0)\n",
            "Requirement already satisfied: google-auth<3,>=1.6.3 in /usr/local/lib/python3.10/dist-packages (from tensorboard<2.16,>=2.15->tensorflow==2.15) (2.27.0)\n",
            "Requirement already satisfied: google-auth-oauthlib<2,>=0.5 in /usr/local/lib/python3.10/dist-packages (from tensorboard<2.16,>=2.15->tensorflow==2.15) (1.2.1)\n",
            "Requirement already satisfied: markdown>=2.6.8 in /usr/local/lib/python3.10/dist-packages (from tensorboard<2.16,>=2.15->tensorflow==2.15) (3.6)\n",
            "Requirement already satisfied: requests<3,>=2.21.0 in /usr/local/lib/python3.10/dist-packages (from tensorboard<2.16,>=2.15->tensorflow==2.15) (2.31.0)\n",
            "Requirement already satisfied: tensorboard-data-server<0.8.0,>=0.7.0 in /usr/local/lib/python3.10/dist-packages (from tensorboard<2.16,>=2.15->tensorflow==2.15) (0.7.2)\n",
            "Requirement already satisfied: werkzeug>=1.0.1 in /usr/local/lib/python3.10/dist-packages (from tensorboard<2.16,>=2.15->tensorflow==2.15) (3.0.3)\n",
            "Requirement already satisfied: cachetools<6.0,>=2.0.0 in /usr/local/lib/python3.10/dist-packages (from google-auth<3,>=1.6.3->tensorboard<2.16,>=2.15->tensorflow==2.15) (5.4.0)\n",
            "Requirement already satisfied: pyasn1-modules>=0.2.1 in /usr/local/lib/python3.10/dist-packages (from google-auth<3,>=1.6.3->tensorboard<2.16,>=2.15->tensorflow==2.15) (0.4.0)\n",
            "Requirement already satisfied: rsa<5,>=3.1.4 in /usr/local/lib/python3.10/dist-packages (from google-auth<3,>=1.6.3->tensorboard<2.16,>=2.15->tensorflow==2.15) (4.9)\n",
            "Requirement already satisfied: requests-oauthlib>=0.7.0 in /usr/local/lib/python3.10/dist-packages (from google-auth-oauthlib<2,>=0.5->tensorboard<2.16,>=2.15->tensorflow==2.15) (1.3.1)\n",
            "Requirement already satisfied: charset-normalizer<4,>=2 in /usr/local/lib/python3.10/dist-packages (from requests<3,>=2.21.0->tensorboard<2.16,>=2.15->tensorflow==2.15) (3.3.2)\n",
            "Requirement already satisfied: idna<4,>=2.5 in /usr/local/lib/python3.10/dist-packages (from requests<3,>=2.21.0->tensorboard<2.16,>=2.15->tensorflow==2.15) (3.7)\n",
            "Requirement already satisfied: urllib3<3,>=1.21.1 in /usr/local/lib/python3.10/dist-packages (from requests<3,>=2.21.0->tensorboard<2.16,>=2.15->tensorflow==2.15) (2.0.7)\n",
            "Requirement already satisfied: certifi>=2017.4.17 in /usr/local/lib/python3.10/dist-packages (from requests<3,>=2.21.0->tensorboard<2.16,>=2.15->tensorflow==2.15) (2024.7.4)\n",
            "Requirement already satisfied: MarkupSafe>=2.1.1 in /usr/local/lib/python3.10/dist-packages (from werkzeug>=1.0.1->tensorboard<2.16,>=2.15->tensorflow==2.15) (2.1.5)\n",
            "Requirement already satisfied: pyasn1<0.7.0,>=0.4.6 in /usr/local/lib/python3.10/dist-packages (from pyasn1-modules>=0.2.1->google-auth<3,>=1.6.3->tensorboard<2.16,>=2.15->tensorflow==2.15) (0.6.0)\n",
            "Requirement already satisfied: oauthlib>=3.0.0 in /usr/local/lib/python3.10/dist-packages (from requests-oauthlib>=0.7.0->google-auth-oauthlib<2,>=0.5->tensorboard<2.16,>=2.15->tensorflow==2.15) (3.2.2)\n"
          ]
        }
      ]
    },
    {
      "cell_type": "code",
      "execution_count": 4,
      "metadata": {
        "colab": {
          "base_uri": "https://localhost:8080/"
        },
        "id": "GXArWE5S-x-9",
        "outputId": "87a3c755-9783-4701-b5b7-2bf9f86cf1de"
      },
      "outputs": [
        {
          "output_type": "stream",
          "name": "stdout",
          "text": [
            "--2024-07-19 20:56:59--  https://s3.amazonaws.com/keras-datasets/jena_climate_2009_2016.csv.zip\n",
            "Resolving s3.amazonaws.com (s3.amazonaws.com)... 16.182.34.88, 16.182.104.216, 52.217.125.32, ...\n",
            "Connecting to s3.amazonaws.com (s3.amazonaws.com)|16.182.34.88|:443... connected.\n",
            "HTTP request sent, awaiting response... 200 OK\n",
            "Length: 13565642 (13M) [application/zip]\n",
            "Saving to: ‘jena_climate_2009_2016.csv.zip’\n",
            "\n",
            "jena_climate_2009_2 100%[===================>]  12.94M  18.7MB/s    in 0.7s    \n",
            "\n",
            "2024-07-19 20:57:00 (18.7 MB/s) - ‘jena_climate_2009_2016.csv.zip’ saved [13565642/13565642]\n",
            "\n",
            "Archive:  jena_climate_2009_2016.csv.zip\n",
            "  inflating: jena_climate_2009_2016.csv  \n",
            "  inflating: __MACOSX/._jena_climate_2009_2016.csv  \n"
          ]
        }
      ],
      "source": [
        "!wget https://s3.amazonaws.com/keras-datasets/jena_climate_2009_2016.csv.zip      # Loading the data for applying RNN\n",
        "!unzip jena_climate_2009_2016.csv.zip"
      ]
    },
    {
      "cell_type": "markdown",
      "metadata": {
        "id": "ort2nfPy-x--"
      },
      "source": [
        "Importing the dataset"
      ]
    },
    {
      "cell_type": "code",
      "execution_count": 5,
      "metadata": {
        "colab": {
          "base_uri": "https://localhost:8080/"
        },
        "id": "g3_cPZpL-x--",
        "outputId": "eae700f8-0f92-4e37-f0a0-4f72898ab4ed"
      },
      "outputs": [
        {
          "output_type": "stream",
          "name": "stdout",
          "text": [
            "['\"Date Time\"', '\"p (mbar)\"', '\"T (degC)\"', '\"Tpot (K)\"', '\"Tdew (degC)\"', '\"rh (%)\"', '\"VPmax (mbar)\"', '\"VPact (mbar)\"', '\"VPdef (mbar)\"', '\"sh (g/kg)\"', '\"H2OC (mmol/mol)\"', '\"rho (g/m**3)\"', '\"wv (m/s)\"', '\"max. wv (m/s)\"', '\"wd (deg)\"']\n",
            "420451\n"
          ]
        }
      ],
      "source": [
        "import os\n",
        "fname = os.path.join(\"jena_climate_2009_2016.csv\")  # This is the file\n",
        "\n",
        "with open(fname) as f:\n",
        "    data = f.read()\n",
        "\n",
        "lines = data.split(\"\\n\")\n",
        "header = lines[0].split(\",\")\n",
        "lines = lines[1:]\n",
        "print(header)     # Printing the initial values\n",
        "print(len(lines))"
      ]
    },
    {
      "cell_type": "code",
      "execution_count": 6,
      "metadata": {
        "id": "vK1RVnJ9-x--"
      },
      "outputs": [],
      "source": [
        "import numpy as np\n",
        "temp = np.zeros((len(lines),))\n",
        "pmry_data = np.zeros((len(lines), len(header) - 1))\n",
        "for i, line in enumerate(lines):\n",
        "    values = [float(x) for x in line.split(\",\")[1:]]\n",
        "    temp[i] = values[1]\n",
        "    pmry_data[i, :] = values[:]"
      ]
    },
    {
      "cell_type": "markdown",
      "metadata": {
        "id": "sbki-7DK-x-_"
      },
      "source": [
        "**Graph which shows the timeseries of temperatues as we took the weather forecasting dataset**"
      ]
    },
    {
      "cell_type": "code",
      "execution_count": 7,
      "metadata": {
        "colab": {
          "base_uri": "https://localhost:8080/",
          "height": 451
        },
        "id": "TfAokN9W-x-_",
        "outputId": "57fcbb95-3b9b-4a7f-99f4-940162838934"
      },
      "outputs": [
        {
          "output_type": "execute_result",
          "data": {
            "text/plain": [
              "[<matplotlib.lines.Line2D at 0x7bb08741d030>]"
            ]
          },
          "metadata": {},
          "execution_count": 7
        },
        {
          "output_type": "display_data",
          "data": {
            "text/plain": [
              "<Figure size 640x480 with 1 Axes>"
            ],
            "image/png": "[encoded data removed]"
          },
          "metadata": {}
        }
      ],
      "source": [
        "from matplotlib import pyplot as plt # Using matplotlib to plot the values\n",
        "plt.plot(range(len(temp)), temp)"
      ]
    },
    {
      "cell_type": "markdown",
      "metadata": {
        "id": "vngCN7yh-x-_"
      },
      "source": [
        "**Temperatues in °C**"
      ]
    },
    {
      "cell_type": "code",
      "execution_count": 8,
      "metadata": {
        "colab": {
          "base_uri": "https://localhost:8080/",
          "height": 447
        },
        "id": "lPX2abjx-x-_",
        "outputId": "73d968b0-1482-4d6b-e2a2-1cee2ca45f6c"
      },
      "outputs": [
        {
          "output_type": "execute_result",
          "data": {
            "text/plain": [
              "[<matplotlib.lines.Line2D at 0x7bb0833dd780>]"
            ]
          },
          "metadata": {},
          "execution_count": 8
        },
        {
          "output_type": "display_data",
          "data": {
            "text/plain": [
              "<Figure size 640x480 with 1 Axes>"
            ],
            "image/png": "[encoded data removed]"
          },
          "metadata": {}
        }
      ],
      "source": [
        "plt.plot(range(1440), temp[:1440])"
      ]
    },
    {
      "cell_type": "markdown",
      "metadata": {
        "id": "bf0WDC_m-x-_"
      },
      "source": [
        "**Calculating the quantity of samples that each data split will require**"
      ]
    },
    {
      "cell_type": "code",
      "execution_count": 9,
      "metadata": {
        "colab": {
          "base_uri": "https://localhost:8080/"
        },
        "id": "hGb7oxg7-x-_",
        "outputId": "cbb639aa-4813-4373-c487-af2f3a68c40d"
      },
      "outputs": [
        {
          "output_type": "stream",
          "name": "stdout",
          "text": [
            "num_train_samples: 210225\n",
            "num_val_samples: 105112\n",
            "num_test_samples: 105114\n"
          ]
        }
      ],
      "source": [
        "num_train_samples = int(0.5 * len(pmry_data))\n",
        "num_val_samples = int(0.25 * len(pmry_data))\n",
        "num_test_samples = len(pmry_data) - num_train_samples - num_val_samples\n",
        "print(\"num_train_samples:\", num_train_samples)\n",
        "print(\"num_val_samples:\", num_val_samples)\n",
        "print(\"num_test_samples:\", num_test_samples)"
      ]
    },
    {
      "cell_type": "markdown",
      "metadata": {
        "id": "LmdesK7M-x-_"
      },
      "source": [
        "**Data Standardization**"
      ]
    },
    {
      "cell_type": "markdown",
      "source": [
        "Computing the mean and standard deviation on train data"
      ],
      "metadata": {
        "id": "5QbsLhSJM7RQ"
      }
    },
    {
      "cell_type": "code",
      "execution_count": 10,
      "metadata": {
        "id": "7Bn_Bxfv-x-_"
      },
      "outputs": [],
      "source": [
        "mean = pmry_data[:num_train_samples].mean(axis=0)\n",
        "pmry_data-= mean\n",
        "std = pmry_data[:num_train_samples].std(axis=0)\n",
        "pmry_data/= std"
      ]
    },
    {
      "cell_type": "markdown",
      "source": [
        "Here we use Numpy array to produce data sets in bulk for time series model training."
      ],
      "metadata": {
        "id": "rV1CL-b6NFJL"
      }
    },
    {
      "cell_type": "code",
      "execution_count": 11,
      "metadata": {
        "colab": {
          "base_uri": "https://localhost:8080/"
        },
        "id": "RbubcpGN-x-_",
        "outputId": "48b39051-efa5-470d-ae77-823658201089"
      },
      "outputs": [
        {
          "output_type": "stream",
          "name": "stdout",
          "text": [
            "[0, 1, 2] 3\n",
            "[1, 2, 3] 4\n",
            "[2, 3, 4] 5\n",
            "[3, 4, 5] 6\n",
            "[4, 5, 6] 7\n"
          ]
        }
      ],
      "source": [
        "import numpy as np\n",
        "from tensorflow import keras\n",
        "int_sequence = np.arange(10)\n",
        "dataset_1 = keras.utils.timeseries_dataset_from_array(\n",
        "    data=int_sequence[:-3],           # Taking input sequence of length 3\n",
        "    targets=int_sequence[3:],\n",
        "    sequence_length=3,\n",
        "    batch_size=2,\n",
        ")\n",
        "\n",
        "for inputs, targets in dataset_1:     # Using for loop to iterate over batches of data\n",
        "    for i in range(inputs.shape[0]):\n",
        "        print([int(x) for x in inputs[i]], int(targets[i]))"
      ]
    },
    {
      "cell_type": "markdown",
      "metadata": {
        "id": "8y-c3NYc-x_A"
      },
      "source": [
        "**Creating training, testing, and validation of datasets**"
      ]
    },
    {
      "cell_type": "code",
      "execution_count": 12,
      "metadata": {
        "id": "DT9jHFHz-x_A"
      },
      "outputs": [],
      "source": [
        "sampling_rate = 6\n",
        "sequence_length = 120\n",
        "delay = sampling_rate * (sequence_length + 24 - 1)\n",
        "batch_size = 256\n",
        "\n",
        "train_dataset = keras.utils.timeseries_dataset_from_array(\n",
        "    pmry_data[:-delay],\n",
        "    targets=temp[delay:],\n",
        "    sampling_rate=sampling_rate,\n",
        "    sequence_length=sequence_length,\n",
        "    shuffle=True,\n",
        "    batch_size=batch_size,\n",
        "    start_index=0,\n",
        "    end_index=num_train_samples)\n",
        "\n",
        "val_dataset = keras.utils.timeseries_dataset_from_array(\n",
        "    pmry_data[:-delay],\n",
        "    targets=temp[delay:],\n",
        "    sampling_rate=sampling_rate,\n",
        "    sequence_length=sequence_length,\n",
        "    shuffle=True,\n",
        "    batch_size=batch_size,\n",
        "    start_index=num_train_samples,\n",
        "    end_index=num_train_samples + num_val_samples)\n",
        "\n",
        "test_dataset = keras.utils.timeseries_dataset_from_array(\n",
        "    pmry_data[:-delay],\n",
        "    targets=temp[delay:],\n",
        "    sampling_rate=sampling_rate,\n",
        "    sequence_length=sequence_length,\n",
        "    shuffle=True,\n",
        "    batch_size=batch_size,\n",
        "    start_index=num_train_samples + num_val_samples)"
      ]
    },
    {
      "cell_type": "markdown",
      "metadata": {
        "id": "DEBxcksw-x_A"
      },
      "source": [
        "**Shape of the data chunks**"
      ]
    },
    {
      "cell_type": "code",
      "execution_count": 13,
      "metadata": {
        "colab": {
          "base_uri": "https://localhost:8080/"
        },
        "id": "tsaSdGXH-x_A",
        "outputId": "2ee99f28-77f5-48f8-bedb-d20636d3d2f5"
      },
      "outputs": [
        {
          "output_type": "stream",
          "name": "stdout",
          "text": [
            "samples shape: (256, 120, 14)\n",
            "targets shape: (256,)\n"
          ]
        }
      ],
      "source": [
        "for samples, targets in train_dataset:\n",
        "    print(\"samples shape:\", samples.shape)\n",
        "    print(\"targets shape:\", targets.shape)\n",
        "    break"
      ]
    },
    {
      "cell_type": "markdown",
      "metadata": {
        "id": "GZQaETcl-x_A"
      },
      "source": [
        "**1st Model:**\n",
        "\n",
        "\n",
        "---\n",
        "\n",
        "\n",
        "***A common-sense, non-machine-learning baseline***"
      ]
    },
    {
      "cell_type": "markdown",
      "metadata": {
        "id": "jMdbA83Z-x_A"
      },
      "source": [
        "**Baseline MAE caluculation**"
      ]
    },
    {
      "cell_type": "code",
      "execution_count": 14,
      "metadata": {
        "colab": {
          "base_uri": "https://localhost:8080/"
        },
        "id": "wRqYyipV-x_A",
        "outputId": "170aeacb-e9d6-4b70-f5b4-f7b9c0119b5a"
      },
      "outputs": [
        {
          "output_type": "stream",
          "name": "stdout",
          "text": [
            "Validation MAE: 2.44\n",
            "Test MAE: 2.62\n"
          ]
        }
      ],
      "source": [
        "def evaluate_naive_method(dataset): # using evaluate_naive_method to calculate MAE\n",
        "    total_abs_err = 0.\n",
        "    samples_seen = 0\n",
        "    for samples, targets in dataset:\n",
        "        preds = samples[:, -1, 1] * std[1] + mean[1]\n",
        "        total_abs_err += np.sum(np.abs(preds - targets))\n",
        "        samples_seen += samples.shape[0]\n",
        "    return total_abs_err / samples_seen\n",
        "\n",
        "print(f\"Validation MAE: {evaluate_naive_method(val_dataset):.2f}\") # Displaying the validation MAE\n",
        "print(f\"Test MAE: {evaluate_naive_method(test_dataset):.2f}\") #  # Displaying the validation MAE"
      ]
    },
    {
      "cell_type": "markdown",
      "metadata": {
        "id": "eL29KS7S-x_A"
      },
      "source": [
        "**2nd Model:**\n",
        "\n",
        "\n",
        "---\n",
        "\n",
        "\n",
        "***Basic machine-learning model***"
      ]
    },
    {
      "cell_type": "markdown",
      "metadata": {
        "id": "exT-CZFQ-x_B"
      },
      "source": [
        "**Simple neural network model for forecasting using Keras.**"
      ]
    },
    {
      "cell_type": "code",
      "execution_count": 15,
      "metadata": {
        "colab": {
          "base_uri": "https://localhost:8080/"
        },
        "id": "n_VCPH5v-x_B",
        "outputId": "9a789505-0560-4b6d-9b64-125a08135406"
      },
      "outputs": [
        {
          "output_type": "stream",
          "name": "stdout",
          "text": [
            "Epoch 1/5\n",
            "819/819 [==============================] - 49s 57ms/step - loss: 12.6822 - mae: 2.7610 - val_loss: 13.8029 - val_mae: 2.9586\n",
            "Epoch 2/5\n",
            "819/819 [==============================] - 39s 48ms/step - loss: 9.2481 - mae: 2.3869 - val_loss: 12.3963 - val_mae: 2.8054\n",
            "Epoch 3/5\n",
            "819/819 [==============================] - 36s 44ms/step - loss: 8.4552 - mae: 2.2838 - val_loss: 10.8290 - val_mae: 2.5845\n",
            "Epoch 4/5\n",
            "819/819 [==============================] - 35s 42ms/step - loss: 7.9575 - mae: 2.2182 - val_loss: 10.8120 - val_mae: 2.5948\n",
            "Epoch 5/5\n",
            "819/819 [==============================] - 36s 44ms/step - loss: 7.6156 - mae: 2.1700 - val_loss: 12.4365 - val_mae: 2.8012\n",
            "405/405 [==============================] - 12s 27ms/step - loss: 11.6896 - mae: 2.6934\n",
            "Test MAE: 2.69\n"
          ]
        }
      ],
      "source": [
        "from tensorflow import keras\n",
        "from tensorflow.keras import layers\n",
        "\n",
        "inputs = keras.Input(shape=(sequence_length, pmry_data.shape[-1])) # Defining the input layer of the model\n",
        "x = layers.Flatten()(inputs)\n",
        "x = layers.Dense(16, activation=\"relu\")(x)\n",
        "outputs = layers.Dense(1)(x)\n",
        "model = keras.Model(inputs, outputs)\n",
        "# Specifying a callback list to be utilized in training.\n",
        "callbacks = [\n",
        "    keras.callbacks.ModelCheckpoint(\"jena_dense.x\",\n",
        "                                    save_best_only=True)\n",
        "]\n",
        "model.compile(optimizer=\"rmsprop\", loss=\"mse\", metrics=[\"mae\"])\n",
        "history = model.fit(train_dataset,\n",
        "                    epochs=5,\n",
        "                    validation_data=val_dataset,\n",
        "                    callbacks=callbacks)\n",
        "\n",
        "model = keras.models.load_model(\"jena_dense.x\")\n",
        "print(f\"Test MAE: {model.evaluate(test_dataset)[1]:.2f}\") # Printing the MAE of test dataset"
      ]
    },
    {
      "cell_type": "markdown",
      "source": [
        "The above model takes as input a sequence of data points and outputs a single value."
      ],
      "metadata": {
        "id": "ZtFW5ffCQ5xo"
      }
    },
    {
      "cell_type": "code",
      "source": [
        "from tensorflow import keras\n",
        "from tensorflow.keras import layers\n",
        "\n",
        "inputs = keras.Input(shape=(sequence_length, pmry_data.shape[-1])) # Defining the input layer of the model\n",
        "x = layers.Flatten()(inputs)\n",
        "x = layers.Dense(8, activation=\"relu\")(x)\n",
        "outputs = layers.Dense(1)(x)\n",
        "model = keras.Model(inputs, outputs)\n",
        "# Specifying a callback list to be utilized in training.\n",
        "callbacks = [\n",
        "    keras.callbacks.ModelCheckpoint(\"jena_dense.x\",\n",
        "                                    save_best_only=True)\n",
        "]\n",
        "model.compile(optimizer=\"rmsprop\", loss=\"mse\", metrics=[\"mae\"])\n",
        "history = model.fit(train_dataset,\n",
        "                    epochs=5,\n",
        "                    validation_data=val_dataset,\n",
        "                    callbacks=callbacks)\n",
        "\n",
        "model = keras.models.load_model(\"jena_dense.x\")\n",
        "print(f\"Test MAE: {model.evaluate(test_dataset)[1]:.2f}\") # Printing the MAE of test dataset"
      ],
      "metadata": {
        "colab": {
          "base_uri": "https://localhost:8080/"
        },
        "id": "5DJ9Sibz77Yf",
        "outputId": "7365f3df-1eb2-4d29-a4e5-a00a1c9eef8c"
      },
      "execution_count": 16,
      "outputs": [
        {
          "output_type": "stream",
          "name": "stdout",
          "text": [
            "Epoch 1/5\n",
            "819/819 [==============================] - 47s 56ms/step - loss: 13.1631 - mae: 2.8186 - val_loss: 10.9407 - val_mae: 2.6052\n",
            "Epoch 2/5\n",
            "819/819 [==============================] - 40s 49ms/step - loss: 9.6131 - mae: 2.4498 - val_loss: 10.6815 - val_mae: 2.5800\n",
            "Epoch 3/5\n",
            "819/819 [==============================] - 37s 45ms/step - loss: 9.1471 - mae: 2.3879 - val_loss: 10.2776 - val_mae: 2.5247\n",
            "Epoch 4/5\n",
            "819/819 [==============================] - 35s 43ms/step - loss: 8.8006 - mae: 2.3431 - val_loss: 10.8628 - val_mae: 2.6094\n",
            "Epoch 5/5\n",
            "819/819 [==============================] - 46s 56ms/step - loss: 8.5644 - mae: 2.3111 - val_loss: 10.6352 - val_mae: 2.5645\n",
            "405/405 [==============================] - 14s 33ms/step - loss: 11.3995 - mae: 2.6581\n",
            "Test MAE: 2.66\n"
          ]
        }
      ]
    },
    {
      "cell_type": "code",
      "source": [
        "from tensorflow import keras\n",
        "from tensorflow.keras import layers\n",
        "\n",
        "inputs = keras.Input(shape=(sequence_length, pmry_data.shape[-1])) # Defining the input layer of the model\n",
        "x = layers.Flatten()(inputs)\n",
        "x = layers.Dense(32, activation=\"relu\")(x)\n",
        "outputs = layers.Dense(1)(x)\n",
        "model = keras.Model(inputs, outputs)\n",
        "# Specifying a callback list to be utilized in training.\n",
        "callbacks = [\n",
        "    keras.callbacks.ModelCheckpoint(\"jena_dense.x\",\n",
        "                                    save_best_only=True)\n",
        "]\n",
        "model.compile(optimizer=\"rmsprop\", loss=\"mse\", metrics=[\"mae\"])\n",
        "history = model.fit(train_dataset,\n",
        "                    epochs=5,\n",
        "                    validation_data=val_dataset,\n",
        "                    callbacks=callbacks)\n",
        "\n",
        "model = keras.models.load_model(\"jena_dense.x\")\n",
        "print(f\"Test MAE: {model.evaluate(test_dataset)[1]:.2f}\") # Printing the MAE of test dataset"
      ],
      "metadata": {
        "colab": {
          "base_uri": "https://localhost:8080/"
        },
        "id": "FtBXSXzF9FTY",
        "outputId": "edfbdb00-6221-4dee-a2e0-843099fc2c22"
      },
      "execution_count": 17,
      "outputs": [
        {
          "output_type": "stream",
          "name": "stdout",
          "text": [
            "Epoch 1/5\n",
            "819/819 [==============================] - 37s 44ms/step - loss: 11.7960 - mae: 2.6688 - val_loss: 11.1429 - val_mae: 2.6242\n",
            "Epoch 2/5\n",
            "819/819 [==============================] - 45s 54ms/step - loss: 8.6042 - mae: 2.3066 - val_loss: 11.2364 - val_mae: 2.6447\n",
            "Epoch 3/5\n",
            "819/819 [==============================] - 35s 43ms/step - loss: 7.7225 - mae: 2.1854 - val_loss: 10.5288 - val_mae: 2.5591\n",
            "Epoch 4/5\n",
            "819/819 [==============================] - 36s 44ms/step - loss: 7.1612 - mae: 2.1008 - val_loss: 11.1199 - val_mae: 2.6513\n",
            "Epoch 5/5\n",
            "819/819 [==============================] - 45s 55ms/step - loss: 6.7127 - mae: 2.0367 - val_loss: 11.4681 - val_mae: 2.6605\n",
            "405/405 [==============================] - 13s 31ms/step - loss: 11.4643 - mae: 2.6804\n",
            "Test MAE: 2.68\n"
          ]
        }
      ]
    },
    {
      "cell_type": "code",
      "source": [
        "from tensorflow import keras\n",
        "from tensorflow.keras import layers\n",
        "\n",
        "inputs = keras.Input(shape=(sequence_length, pmry_data.shape[-1])) # Defining the input layer of the model\n",
        "x = layers.Flatten()(inputs)\n",
        "x = layers.Dense(64, activation=\"relu\")(x)\n",
        "outputs = layers.Dense(1)(x)\n",
        "model = keras.Model(inputs, outputs)\n",
        "# Specifying a callback list to be utilized in training.\n",
        "callbacks = [\n",
        "    keras.callbacks.ModelCheckpoint(\"jena_dense.x\",\n",
        "                                    save_best_only=True)\n",
        "]\n",
        "model.compile(optimizer=\"rmsprop\", loss=\"mse\", metrics=[\"mae\"])\n",
        "history = model.fit(train_dataset,\n",
        "                    epochs=5,\n",
        "                    validation_data=val_dataset,\n",
        "                    callbacks=callbacks)\n",
        "\n",
        "model = keras.models.load_model(\"jena_dense.x\")\n",
        "print(f\"Test MAE: {model.evaluate(test_dataset)[1]:.2f}\") # Printing the MAE of test dataset"
      ],
      "metadata": {
        "colab": {
          "base_uri": "https://localhost:8080/"
        },
        "id": "81cCgraeGpQS",
        "outputId": "4fd6e49d-3c56-418a-fbfb-581cb7eb6066"
      },
      "execution_count": 18,
      "outputs": [
        {
          "output_type": "stream",
          "name": "stdout",
          "text": [
            "Epoch 1/5\n",
            "819/819 [==============================] - 34s 41ms/step - loss: 12.1653 - mae: 2.7046 - val_loss: 11.5348 - val_mae: 2.6822\n",
            "Epoch 2/5\n",
            "819/819 [==============================] - 34s 42ms/step - loss: 8.4944 - mae: 2.2914 - val_loss: 12.2011 - val_mae: 2.7547\n",
            "Epoch 3/5\n",
            "819/819 [==============================] - 36s 44ms/step - loss: 7.3859 - mae: 2.1353 - val_loss: 11.1767 - val_mae: 2.6296\n",
            "Epoch 4/5\n",
            "819/819 [==============================] - 47s 57ms/step - loss: 6.6551 - mae: 2.0285 - val_loss: 10.7361 - val_mae: 2.5919\n",
            "Epoch 5/5\n",
            "819/819 [==============================] - 45s 55ms/step - loss: 6.1415 - mae: 1.9496 - val_loss: 12.0329 - val_mae: 2.7594\n",
            "405/405 [==============================] - 12s 29ms/step - loss: 11.8821 - mae: 2.7173\n",
            "Test MAE: 2.72\n"
          ]
        }
      ]
    },
    {
      "cell_type": "markdown",
      "source": [
        "Tried various dense units of 8, 32 and 64"
      ],
      "metadata": {
        "id": "dbU8d-XfRnMe"
      }
    },
    {
      "cell_type": "markdown",
      "metadata": {
        "id": "GDTHTdJo-x_B"
      },
      "source": [
        "**Graph of Training and Validation MAE Values**"
      ]
    },
    {
      "cell_type": "code",
      "execution_count": 19,
      "metadata": {
        "colab": {
          "base_uri": "https://localhost:8080/",
          "height": 472
        },
        "id": "4wA7K2NF-x_B",
        "outputId": "e2c7ce1a-37bd-451f-ee6c-be4c8d87d782"
      },
      "outputs": [
        {
          "output_type": "display_data",
          "data": {
            "text/plain": [
              "<Figure size 640x480 with 1 Axes>"
            ],
            "image/png": "[encoded data removed]"
          },
          "metadata": {}
        }
      ],
      "source": [
        "# matplotlib.pyplot for creating plots\n",
        "import matplotlib.pyplot as plt\n",
        "loss = history.history[\"mae\"]\n",
        "val_loss = history.history[\"val_mae\"]\n",
        "epochs = range(1, len(loss) + 1)\n",
        "plt.figure()\n",
        "plt.plot(epochs, loss, color=\"grey\", linestyle=\"solid\", label=\"Training MAE\")\n",
        "plt.plot(epochs, val_loss, color=\"blue\", linestyle=\"dotted\", label=\"Validation MAE\")\n",
        "plt.title(\"Training and validation MAE\")\n",
        "plt.xlabel(\"Epochs Values\")\n",
        "plt.ylabel(\"MAE Values\")\n",
        "plt.legend()\n",
        "plt.show()"
      ]
    },
    {
      "cell_type": "markdown",
      "metadata": {
        "id": "ckr8Y8Zz-x_B"
      },
      "source": [
        "**3rd Model:**\n",
        "\n",
        "\n",
        "---\n",
        "\n",
        "\n",
        "\n",
        "***1D convolutional model***"
      ]
    },
    {
      "cell_type": "code",
      "execution_count": 20,
      "metadata": {
        "colab": {
          "base_uri": "https://localhost:8080/"
        },
        "id": "4cr8GR7E-x_B",
        "outputId": "15ead103-8182-40d2-9932-6c5f4421bf96"
      },
      "outputs": [
        {
          "output_type": "stream",
          "name": "stdout",
          "text": [
            "Epoch 1/5\n",
            "819/819 [==============================] - 42s 48ms/step - loss: 25.6978 - mae: 3.9010 - val_loss: 15.4262 - val_mae: 3.1216\n",
            "Epoch 2/5\n",
            "819/819 [==============================] - 50s 60ms/step - loss: 15.9845 - mae: 3.1708 - val_loss: 14.8426 - val_mae: 3.0230\n",
            "Epoch 3/5\n",
            "819/819 [==============================] - 47s 58ms/step - loss: 14.4231 - mae: 3.0124 - val_loss: 15.5092 - val_mae: 3.1014\n",
            "Epoch 4/5\n",
            "819/819 [==============================] - 37s 45ms/step - loss: 13.6848 - mae: 2.9326 - val_loss: 15.4951 - val_mae: 3.0710\n",
            "Epoch 5/5\n",
            "819/819 [==============================] - 48s 58ms/step - loss: 13.1804 - mae: 2.8771 - val_loss: 15.5573 - val_mae: 3.0629\n",
            "405/405 [==============================] - 12s 29ms/step - loss: 16.0210 - mae: 3.1782\n",
            "Test MAE: 3.18\n"
          ]
        }
      ],
      "source": [
        "from tensorflow import keras\n",
        "from tensorflow.keras import layers\n",
        "inputs = keras.Input(shape=(sequence_length, pmry_data.shape[-1]))\n",
        "convol_x = layers.Conv1D(8, 24, activation=\"relu\")(inputs)     # 1D conventional layer\n",
        "convol_x = layers.MaxPooling1D(2)(convol_x)                    # Max pooling Layer\n",
        "convol_x = layers.Conv1D(8, 12, activation=\"relu\")(convol_x)   # 1D conventional layer\n",
        "convol_x = layers.MaxPooling1D(2)(convol_x)                    # Max pooling Layer\n",
        "convol_x = layers.Conv1D(8, 6, activation=\"relu\")(convol_x)    # 1D conventional layer\n",
        "convol_x = layers.GlobalAveragePooling1D()(convol_x)\n",
        "outputs = layers.Dense(1)(convol_x)\n",
        "model = keras.Model(inputs, outputs)\n",
        "# Specifying a callback list to be utilized in training.\n",
        "callbacks = [\n",
        "    keras.callbacks.ModelCheckpoint(\"jena_conv.convol_x\",\n",
        "                                    save_best_only=True)\n",
        "]\n",
        "model.compile(optimizer=\"rmsprop\", loss=\"mse\", metrics=[\"mae\"])\n",
        "history = model.fit(train_dataset,\n",
        "                    epochs=5,\n",
        "                    validation_data=val_dataset,\n",
        "                    callbacks=callbacks)\n",
        "\n",
        "model = keras.models.load_model(\"jena_conv.convol_x\")\n",
        "print(f\"Test MAE: {model.evaluate(test_dataset)[1]:.2f}\") # Printing the MAE of test dataset"
      ]
    },
    {
      "cell_type": "markdown",
      "source": [
        "We received\n",
        "\n",
        "Validation MAE: 3.2278\n",
        "\n",
        "Test MAE      : 3.20"
      ],
      "metadata": {
        "id": "TLlc5F9WTo-x"
      }
    },
    {
      "cell_type": "markdown",
      "source": [
        "**Graph of Training and Validation MAE Values**"
      ],
      "metadata": {
        "id": "0qWoiWIDVHEK"
      }
    },
    {
      "cell_type": "code",
      "source": [
        "import matplotlib.pyplot as plt\n",
        "loss = history.history[\"mae\"]\n",
        "val_loss = history.history[\"val_mae\"]\n",
        "epochs = range(1, len(loss) + 1)\n",
        "plt.figure()\n",
        "plt.plot(epochs, loss, color=\"grey\", linestyle=\"solid\", label=\"Training MAE\")\n",
        "plt.plot(epochs, val_loss, color=\"blue\", linestyle=\"dotted\", label=\"Validation MAE\")\n",
        "plt.title(\"Training and validation MAE\")\n",
        "plt.xlabel(\"Epochs Values\")\n",
        "plt.ylabel(\"MAE Values\")\n",
        "plt.legend()\n",
        "plt.show()"
      ],
      "metadata": {
        "colab": {
          "base_uri": "https://localhost:8080/",
          "height": 472
        },
        "id": "0K8JqWde-ehk",
        "outputId": "2fecfbe2-961f-4612-ca65-0dd1624a111d"
      },
      "execution_count": 21,
      "outputs": [
        {
          "output_type": "display_data",
          "data": {
            "text/plain": [
              "<Figure size 640x480 with 1 Axes>"
            ],
            "image/png": "[encoded data removed]"
          },
          "metadata": {}
        }
      ]
    },
    {
      "cell_type": "markdown",
      "metadata": {
        "id": "tSEi1IMt-x_B"
      },
      "source": [
        "The first recurrent baseline"
      ]
    },
    {
      "cell_type": "markdown",
      "metadata": {
        "id": "EL3nhvJI-x_C"
      },
      "source": [
        "**4th Model:**\n",
        "\n",
        "\n",
        "---\n",
        "\n",
        "\n",
        "\n",
        "***Simple LSTM-based model***"
      ]
    },
    {
      "cell_type": "code",
      "execution_count": 22,
      "metadata": {
        "colab": {
          "base_uri": "https://localhost:8080/"
        },
        "id": "EO4youVY-x_C",
        "outputId": "4e14e612-3ad3-4146-e85c-063800d11b9f"
      },
      "outputs": [
        {
          "output_type": "stream",
          "name": "stdout",
          "text": [
            "Epoch 1/5\n",
            "819/819 [==============================] - 44s 51ms/step - loss: 39.6707 - mae: 4.5454 - val_loss: 11.9123 - val_mae: 2.6243\n",
            "Epoch 2/5\n",
            "819/819 [==============================] - 51s 62ms/step - loss: 10.7152 - mae: 2.5508 - val_loss: 9.7320 - val_mae: 2.4117\n",
            "Epoch 3/5\n",
            "819/819 [==============================] - 42s 51ms/step - loss: 9.5902 - mae: 2.4140 - val_loss: 9.9988 - val_mae: 2.4348\n",
            "Epoch 4/5\n",
            "819/819 [==============================] - 38s 46ms/step - loss: 9.1430 - mae: 2.3536 - val_loss: 10.3955 - val_mae: 2.4836\n",
            "Epoch 5/5\n",
            "819/819 [==============================] - 39s 48ms/step - loss: 8.8514 - mae: 2.3127 - val_loss: 10.2544 - val_mae: 2.4745\n",
            "405/405 [==============================] - 13s 31ms/step - loss: 11.0274 - mae: 2.5846\n",
            "Test MAE: 2.58\n"
          ]
        }
      ],
      "source": [
        "inputs = keras.Input(shape=(sequence_length, pmry_data.shape[-1])) # Defining the input layer of the model\n",
        "x = layers.LSTM(16)(inputs)\n",
        "outputs = layers.Dense(1)(x)\n",
        "model = keras.Model(inputs, outputs)\n",
        "# Specifying a callback list to be utilized in training.\n",
        "callbacks = [\n",
        "    keras.callbacks.ModelCheckpoint(\"jena_lstm.x\",\n",
        "                                    save_best_only=True)\n",
        "]\n",
        "model.compile(optimizer=\"rmsprop\", loss=\"mse\", metrics=[\"mae\"])\n",
        "history = model.fit(train_dataset,\n",
        "                    epochs=5,\n",
        "                    validation_data=val_dataset,\n",
        "                    callbacks=callbacks)\n",
        "\n",
        "model = keras.models.load_model(\"jena_lstm.x\")\n",
        "print(f\"Test MAE: {model.evaluate(test_dataset)[1]:.2f}\")"
      ]
    },
    {
      "cell_type": "markdown",
      "source": [
        "We received\n",
        "\n",
        "Validation MAE: 2.3790\n",
        "\n",
        "Test MAE      : 2.55"
      ],
      "metadata": {
        "id": "ztF6BQN7T8CR"
      }
    },
    {
      "cell_type": "code",
      "source": [
        "import matplotlib.pyplot as plt\n",
        "loss = history.history[\"mae\"]\n",
        "val_loss = history.history[\"val_mae\"]\n",
        "epochs = range(1, len(loss) + 1)\n",
        "plt.figure()\n",
        "plt.plot(epochs, loss, color=\"grey\", linestyle=\"solid\", label=\"Training MAE\")\n",
        "plt.plot(epochs, val_loss, color=\"blue\", linestyle=\"dotted\", label=\"Validation MAE\")\n",
        "plt.title(\"Training and validation MAE\")\n",
        "plt.xlabel(\"Epochs Values\")\n",
        "plt.ylabel(\"MAE Values\")\n",
        "plt.legend()\n",
        "plt.show()"
      ],
      "metadata": {
        "colab": {
          "base_uri": "https://localhost:8080/",
          "height": 472
        },
        "id": "_8DPoicx-Fzl",
        "outputId": "4f4d459b-0634-4141-af75-5575b14455f0"
      },
      "execution_count": 23,
      "outputs": [
        {
          "output_type": "display_data",
          "data": {
            "text/plain": [
              "<Figure size 640x480 with 1 Axes>"
            ],
            "image/png": "[encoded data removed]"
          },
          "metadata": {}
        }
      ]
    },
    {
      "cell_type": "markdown",
      "metadata": {
        "id": "r63iLW0F-x_C"
      },
      "source": [
        "**5th Model:**\n",
        "\n",
        "\n",
        "---\n",
        "\n",
        "\n",
        "\n",
        "***Recurrent neural networks***"
      ]
    },
    {
      "cell_type": "markdown",
      "metadata": {
        "id": "clZOPYpo-x_C"
      },
      "source": [
        "**Apllying Numpy to a simple RNN**"
      ]
    },
    {
      "cell_type": "code",
      "execution_count": 24,
      "metadata": {
        "id": "B7Fhqmg2-x_C"
      },
      "outputs": [],
      "source": [
        "import numpy as np\n",
        "timesteps = 100\n",
        "input_features = 32\n",
        "output_features = 64\n",
        "inputs = np.random.random((timesteps, input_features))\n",
        "state_t = np.zeros((output_features,))\n",
        "W = np.random.random((output_features, input_features))\n",
        "U = np.random.random((output_features, output_features))\n",
        "b = np.random.random((output_features,))\n",
        "successive_outputs = []\n",
        "for input_t in inputs:\n",
        "    output_t = np.tanh(np.dot(W, input_t) + np.dot(U, state_t) + b)\n",
        "    successive_outputs.append(output_t)\n",
        "    state_t = output_t\n",
        "final_output_sequence = np.stack(successive_outputs, axis=0)"
      ]
    },
    {
      "cell_type": "code",
      "execution_count": 25,
      "metadata": {
        "id": "ZZ8HxVT7-x_K"
      },
      "outputs": [],
      "source": [
        "num_features = 14  # Recurring network processing sequences of length\n",
        "inputs = keras.Input(shape=(None, num_features))\n",
        "outputs = layers.SimpleRNN(16)(inputs)"
      ]
    },
    {
      "cell_type": "markdown",
      "metadata": {
        "id": "BfRFJjFt-x_L"
      },
      "source": [
        "**RNN layer returning output shape**"
      ]
    },
    {
      "cell_type": "code",
      "execution_count": 26,
      "metadata": {
        "colab": {
          "base_uri": "https://localhost:8080/"
        },
        "id": "r4To29sc-x_L",
        "outputId": "e0b23c83-f456-4930-907c-9724bf2ee9c0"
      },
      "outputs": [
        {
          "output_type": "stream",
          "name": "stdout",
          "text": [
            "(None, 16)\n"
          ]
        }
      ],
      "source": [
        "num_features = 14\n",
        "steps = 120\n",
        "inputs = keras.Input(shape=(steps, num_features))\n",
        "outputs = layers.SimpleRNN(16, return_sequences=False)(inputs)\n",
        "print(outputs.shape)"
      ]
    },
    {
      "cell_type": "code",
      "execution_count": 27,
      "metadata": {
        "colab": {
          "base_uri": "https://localhost:8080/"
        },
        "id": "AjU2mkLm-x_L",
        "outputId": "98d441ba-6533-4921-b731-73367e9c6feb"
      },
      "outputs": [
        {
          "output_type": "stream",
          "name": "stdout",
          "text": [
            "(None, 120, 16)\n"
          ]
        }
      ],
      "source": [
        "num_features = 14  # Full output sequence retrieval from an RNN layer\n",
        "steps = 120\n",
        "inputs = keras.Input(shape=(steps, num_features))\n",
        "outputs = layers.SimpleRNN(16, return_sequences=True)(inputs)\n",
        "print(outputs.shape)"
      ]
    },
    {
      "cell_type": "markdown",
      "metadata": {
        "id": "i2c9jlcp-x_L"
      },
      "source": [
        "**Stacking Of Recurring Neural Network**"
      ]
    },
    {
      "cell_type": "code",
      "execution_count": 28,
      "metadata": {
        "id": "tmcRL5-m-x_L"
      },
      "outputs": [],
      "source": [
        "inputs = keras.Input(shape=(steps, num_features))\n",
        "x = layers.SimpleRNN(16, return_sequences=True)(inputs)\n",
        "x = layers.SimpleRNN(16, return_sequences=True)(x)\n",
        "outputs = layers.SimpleRNN(16)(x)"
      ]
    },
    {
      "cell_type": "markdown",
      "metadata": {
        "id": "wgL411pD-x_L"
      },
      "source": [
        "**6th Model:**\n",
        "\n",
        "\n",
        "---\n",
        "\n",
        "\n",
        "***Recurring Neural Network(LSTM Layers)***"
      ]
    },
    {
      "cell_type": "markdown",
      "metadata": {
        "id": "snKWBiAS-x_L"
      },
      "source": [
        "***Using recurrent dropout***"
      ]
    },
    {
      "cell_type": "markdown",
      "metadata": {
        "id": "fUD3VaE_-x_L"
      },
      "source": [
        "**Computing the dropout-regularized LSTM**"
      ]
    },
    {
      "cell_type": "code",
      "execution_count": 30,
      "metadata": {
        "colab": {
          "base_uri": "https://localhost:8080/"
        },
        "id": "IDMztD2W-x_M",
        "outputId": "ccc0e1f8-d9b0-462c-fb2b-20652807dd5d"
      },
      "outputs": [
        {
          "output_type": "stream",
          "name": "stderr",
          "text": [
            "WARNING:tensorflow:Layer lstm_2 will not use cuDNN kernels since it doesn't meet the criteria. It will use a generic GPU kernel as fallback when running on GPU.\n"
          ]
        },
        {
          "output_type": "stream",
          "name": "stdout",
          "text": [
            "Epoch 1/5\n",
            "819/819 [==============================] - 310s 371ms/step - loss: 49.2305 - mae: 5.2274 - val_loss: 13.7858 - val_mae: 2.8039\n",
            "Epoch 2/5\n",
            "819/819 [==============================] - 285s 348ms/step - loss: 20.2056 - mae: 3.4499 - val_loss: 10.1475 - val_mae: 2.4821\n",
            "Epoch 3/5\n",
            "819/819 [==============================] - 287s 350ms/step - loss: 18.1546 - mae: 3.2805 - val_loss: 9.7512 - val_mae: 2.4408\n",
            "Epoch 4/5\n",
            "819/819 [==============================] - 288s 351ms/step - loss: 17.1655 - mae: 3.1881 - val_loss: 9.5825 - val_mae: 2.4195\n",
            "Epoch 5/5\n",
            "819/819 [==============================] - 287s 350ms/step - loss: 16.4676 - mae: 3.1247 - val_loss: 9.5165 - val_mae: 2.4098\n"
          ]
        },
        {
          "output_type": "stream",
          "name": "stderr",
          "text": [
            "WARNING:tensorflow:Layer lstm_2 will not use cuDNN kernels since it doesn't meet the criteria. It will use a generic GPU kernel as fallback when running on GPU.\n"
          ]
        },
        {
          "output_type": "stream",
          "name": "stdout",
          "text": [
            "405/405 [==============================] - 27s 65ms/step - loss: 11.0051 - mae: 2.6125\n",
            "Test MAE: 2.61\n"
          ]
        }
      ],
      "source": [
        "inputs = keras.Input(shape=(sequence_length, pmry_data.shape[-1]))              # Defining the input layer of the model\n",
        "lstm_x = layers.LSTM(16, recurrent_dropout=0.25)(inputs)\n",
        "lstm_x = layers.Dropout(0.5)(lstm_x)  # Using droput function\n",
        "outputs = layers.Dense(1)(lstm_x)\n",
        "model = keras.Model(inputs, outputs)\n",
        "# Specifying a callback list to be utilized in training.\n",
        "callbacks = [\n",
        "    keras.callbacks.ModelCheckpoint(\"jena_lstm_dropout.lstm_x\",\n",
        "                                    save_best_only=True)\n",
        "]\n",
        "model.compile(optimizer=\"rmsprop\", loss=\"mse\", metrics=[\"mae\"])\n",
        "history = model.fit(train_dataset,\n",
        "                    epochs=5,\n",
        "                    validation_data=val_dataset,\n",
        "                    callbacks=callbacks)\n",
        "model = keras.models.load_model(\"jena_lstm_dropout.lstm_x\")\n",
        "print(f\"Test MAE: {model.evaluate(test_dataset)[1]:.2f}\") # Printing the Test sample MAE"
      ]
    },
    {
      "cell_type": "markdown",
      "source": [
        "We received\n",
        "\n",
        "Validation MAE: 2.4221\n",
        "\n",
        "Test MAE : 2.62"
      ],
      "metadata": {
        "id": "odMYx3VSUFuJ"
      }
    },
    {
      "cell_type": "markdown",
      "source": [
        " **Graph of dropout-regularized LSTM displaying the validation and training MAE**"
      ],
      "metadata": {
        "id": "qD2146Lx-FdN"
      }
    },
    {
      "cell_type": "code",
      "source": [
        "import matplotlib.pyplot as plt\n",
        "loss = history.history[\"mae\"]\n",
        "val_loss = history.history[\"val_mae\"]\n",
        "epochs = range(1, len(loss) + 1)\n",
        "plt.figure()\n",
        "plt.plot(epochs, loss, color=\"grey\", linestyle=\"solid\", label=\"Training MAE\")\n",
        "plt.plot(epochs, val_loss, color=\"blue\", linestyle=\"dotted\", label=\"Validation MAE\")\n",
        "plt.title(\"Training and validation MAE\")\n",
        "plt.xlabel(\"Epochs Values\")\n",
        "plt.ylabel(\"MAE Values\")\n",
        "plt.legend()\n",
        "plt.show()"
      ],
      "metadata": {
        "id": "XDAnMM3Q76jL",
        "colab": {
          "base_uri": "https://localhost:8080/",
          "height": 207
        },
        "outputId": "3fe6c646-871f-484b-d088-1e612cfd19d7"
      },
      "execution_count": 4,
      "outputs": [
        {
          "output_type": "error",
          "ename": "NameError",
          "evalue": "name 'history' is not defined",
          "traceback": [
            "\u001b[0;31m---------------------------------------------------------------------------\u001b[0m",
            "\u001b[0;31mNameError\u001b[0m                                 Traceback (most recent call last)",
            "\u001b[0;32m<ipython-input-4-7e710dbb7431>\u001b[0m in \u001b[0;36m<cell line: 2>\u001b[0;34m()\u001b[0m\n\u001b[1;32m      1\u001b[0m \u001b[0;32mimport\u001b[0m \u001b[0mmatplotlib\u001b[0m\u001b[0;34m.\u001b[0m\u001b[0mpyplot\u001b[0m \u001b[0;32mas\u001b[0m \u001b[0mplt\u001b[0m\u001b[0;34m\u001b[0m\u001b[0;34m\u001b[0m\u001b[0m\n\u001b[0;32m----> 2\u001b[0;31m \u001b[0mloss\u001b[0m \u001b[0;34m=\u001b[0m \u001b[0mhistory\u001b[0m\u001b[0;34m.\u001b[0m\u001b[0mhistory\u001b[0m\u001b[0;34m[\u001b[0m\u001b[0;34m\"mae\"\u001b[0m\u001b[0;34m]\u001b[0m\u001b[0;34m\u001b[0m\u001b[0;34m\u001b[0m\u001b[0m\n\u001b[0m\u001b[1;32m      3\u001b[0m \u001b[0mval_loss\u001b[0m \u001b[0;34m=\u001b[0m \u001b[0mhistory\u001b[0m\u001b[0;34m.\u001b[0m\u001b[0mhistory\u001b[0m\u001b[0;34m[\u001b[0m\u001b[0;34m\"val_mae\"\u001b[0m\u001b[0;34m]\u001b[0m\u001b[0;34m\u001b[0m\u001b[0;34m\u001b[0m\u001b[0m\n\u001b[1;32m      4\u001b[0m \u001b[0mepochs\u001b[0m \u001b[0;34m=\u001b[0m \u001b[0mrange\u001b[0m\u001b[0;34m(\u001b[0m\u001b[0;36m1\u001b[0m\u001b[0;34m,\u001b[0m \u001b[0mlen\u001b[0m\u001b[0;34m(\u001b[0m\u001b[0mloss\u001b[0m\u001b[0;34m)\u001b[0m \u001b[0;34m+\u001b[0m \u001b[0;36m1\u001b[0m\u001b[0;34m)\u001b[0m\u001b[0;34m\u001b[0m\u001b[0;34m\u001b[0m\u001b[0m\n\u001b[1;32m      5\u001b[0m \u001b[0mplt\u001b[0m\u001b[0;34m.\u001b[0m\u001b[0mfigure\u001b[0m\u001b[0;34m(\u001b[0m\u001b[0;34m)\u001b[0m\u001b[0;34m\u001b[0m\u001b[0;34m\u001b[0m\u001b[0m\n",
            "\u001b[0;31mNameError\u001b[0m: name 'history' is not defined"
          ]
        }
      ]
    },
    {
      "cell_type": "code",
      "execution_count": 2,
      "metadata": {
        "id": "wmN27DIw-x_M",
        "colab": {
          "base_uri": "https://localhost:8080/",
          "height": 156
        },
        "outputId": "05033793-9b3d-4d88-fd7d-a501c08c56ee"
      },
      "outputs": [
        {
          "output_type": "error",
          "ename": "NameError",
          "evalue": "name 'keras' is not defined",
          "traceback": [
            "\u001b[0;31m---------------------------------------------------------------------------\u001b[0m",
            "\u001b[0;31mNameError\u001b[0m                                 Traceback (most recent call last)",
            "\u001b[0;32m<ipython-input-2-3d1be80d7f1c>\u001b[0m in \u001b[0;36m<cell line: 1>\u001b[0;34m()\u001b[0m\n\u001b[0;32m----> 1\u001b[0;31m \u001b[0minputs\u001b[0m \u001b[0;34m=\u001b[0m \u001b[0mkeras\u001b[0m\u001b[0;34m.\u001b[0m\u001b[0mInput\u001b[0m\u001b[0;34m(\u001b[0m\u001b[0mshape\u001b[0m\u001b[0;34m=\u001b[0m\u001b[0;34m(\u001b[0m\u001b[0msequence_length\u001b[0m\u001b[0;34m,\u001b[0m \u001b[0mnum_features\u001b[0m\u001b[0;34m)\u001b[0m\u001b[0;34m)\u001b[0m\u001b[0;34m\u001b[0m\u001b[0;34m\u001b[0m\u001b[0m\n\u001b[0m\u001b[1;32m      2\u001b[0m \u001b[0mx\u001b[0m \u001b[0;34m=\u001b[0m \u001b[0mlayers\u001b[0m\u001b[0;34m.\u001b[0m\u001b[0mLSTM\u001b[0m\u001b[0;34m(\u001b[0m\u001b[0;36m16\u001b[0m\u001b[0;34m,\u001b[0m \u001b[0mrecurrent_dropout\u001b[0m\u001b[0;34m=\u001b[0m\u001b[0;36m0.2\u001b[0m\u001b[0;34m,\u001b[0m \u001b[0munroll\u001b[0m\u001b[0;34m=\u001b[0m\u001b[0;32mTrue\u001b[0m\u001b[0;34m)\u001b[0m\u001b[0;34m(\u001b[0m\u001b[0minputs\u001b[0m\u001b[0;34m)\u001b[0m \u001b[0;31m# Using the LSTM\u001b[0m\u001b[0;34m\u001b[0m\u001b[0;34m\u001b[0m\u001b[0m\n",
            "\u001b[0;31mNameError\u001b[0m: name 'keras' is not defined"
          ]
        }
      ],
      "source": [
        "inputs = keras.Input(shape=(sequence_length, num_features))\n",
        "x = layers.LSTM(16, recurrent_dropout=0.2, unroll=True)(inputs) # Using the LSTM"
      ]
    },
    {
      "cell_type": "markdown",
      "metadata": {
        "id": "C8O_Hk_A-x_M"
      },
      "source": [
        "**7th Model:**\n",
        "\n",
        "\n",
        "---\n",
        "\n",
        "\n",
        "\n",
        "***Stacked setup of recurrent layers***"
      ]
    },
    {
      "cell_type": "markdown",
      "metadata": {
        "id": "4oL3mQOE-x_M"
      },
      "source": [
        "**Computing dropout-regularized, stacked GRU model**"
      ]
    },
    {
      "cell_type": "code",
      "execution_count": 1,
      "metadata": {
        "id": "rTbcPPdj-x_M",
        "colab": {
          "base_uri": "https://localhost:8080/",
          "height": 207
        },
        "outputId": "81093b31-9403-40d9-bde2-1cefdd112dc5"
      },
      "outputs": [
        {
          "output_type": "error",
          "ename": "NameError",
          "evalue": "name 'keras' is not defined",
          "traceback": [
            "\u001b[0;31m---------------------------------------------------------------------------\u001b[0m",
            "\u001b[0;31mNameError\u001b[0m                                 Traceback (most recent call last)",
            "\u001b[0;32m<ipython-input-1-ac92c8a45d71>\u001b[0m in \u001b[0;36m<cell line: 1>\u001b[0;34m()\u001b[0m\n\u001b[0;32m----> 1\u001b[0;31m \u001b[0minputs\u001b[0m \u001b[0;34m=\u001b[0m \u001b[0mkeras\u001b[0m\u001b[0;34m.\u001b[0m\u001b[0mInput\u001b[0m\u001b[0;34m(\u001b[0m\u001b[0mshape\u001b[0m\u001b[0;34m=\u001b[0m\u001b[0;34m(\u001b[0m\u001b[0msequence_length\u001b[0m\u001b[0;34m,\u001b[0m \u001b[0mpmry_data\u001b[0m\u001b[0;34m.\u001b[0m\u001b[0mshape\u001b[0m\u001b[0;34m[\u001b[0m\u001b[0;34m-\u001b[0m\u001b[0;36m1\u001b[0m\u001b[0;34m]\u001b[0m\u001b[0;34m)\u001b[0m\u001b[0;34m)\u001b[0m      \u001b[0;31m# Defining the input layer of the model\u001b[0m\u001b[0;34m\u001b[0m\u001b[0;34m\u001b[0m\u001b[0m\n\u001b[0m\u001b[1;32m      2\u001b[0m \u001b[0mx\u001b[0m \u001b[0;34m=\u001b[0m \u001b[0mlayers\u001b[0m\u001b[0;34m.\u001b[0m\u001b[0mGRU\u001b[0m\u001b[0;34m(\u001b[0m\u001b[0;36m32\u001b[0m\u001b[0;34m,\u001b[0m \u001b[0mrecurrent_dropout\u001b[0m\u001b[0;34m=\u001b[0m\u001b[0;36m0.5\u001b[0m\u001b[0;34m,\u001b[0m \u001b[0mreturn_sequences\u001b[0m\u001b[0;34m=\u001b[0m\u001b[0;32mTrue\u001b[0m\u001b[0;34m)\u001b[0m\u001b[0;34m(\u001b[0m\u001b[0minputs\u001b[0m\u001b[0;34m)\u001b[0m\u001b[0;34m\u001b[0m\u001b[0;34m\u001b[0m\u001b[0m\n\u001b[1;32m      3\u001b[0m \u001b[0mx\u001b[0m \u001b[0;34m=\u001b[0m \u001b[0mlayers\u001b[0m\u001b[0;34m.\u001b[0m\u001b[0mGRU\u001b[0m\u001b[0;34m(\u001b[0m\u001b[0;36m32\u001b[0m\u001b[0;34m,\u001b[0m \u001b[0mrecurrent_dropout\u001b[0m\u001b[0;34m=\u001b[0m\u001b[0;36m0.5\u001b[0m\u001b[0;34m)\u001b[0m\u001b[0;34m(\u001b[0m\u001b[0mx\u001b[0m\u001b[0;34m)\u001b[0m\u001b[0;34m\u001b[0m\u001b[0;34m\u001b[0m\u001b[0m\n\u001b[1;32m      4\u001b[0m \u001b[0mx\u001b[0m \u001b[0;34m=\u001b[0m \u001b[0mlayers\u001b[0m\u001b[0;34m.\u001b[0m\u001b[0mDropout\u001b[0m\u001b[0;34m(\u001b[0m\u001b[0;36m0.5\u001b[0m\u001b[0;34m)\u001b[0m\u001b[0;34m(\u001b[0m\u001b[0mx\u001b[0m\u001b[0;34m)\u001b[0m\u001b[0;34m\u001b[0m\u001b[0;34m\u001b[0m\u001b[0m\n\u001b[1;32m      5\u001b[0m \u001b[0moutputs\u001b[0m \u001b[0;34m=\u001b[0m \u001b[0mlayers\u001b[0m\u001b[0;34m.\u001b[0m\u001b[0mDense\u001b[0m\u001b[0;34m(\u001b[0m\u001b[0;36m1\u001b[0m\u001b[0;34m)\u001b[0m\u001b[0;34m(\u001b[0m\u001b[0mx\u001b[0m\u001b[0;34m)\u001b[0m\u001b[0;34m\u001b[0m\u001b[0;34m\u001b[0m\u001b[0m\n",
            "\u001b[0;31mNameError\u001b[0m: name 'keras' is not defined"
          ]
        }
      ],
      "source": [
        "inputs = keras.Input(shape=(sequence_length, pmry_data.shape[-1]))      # Defining the input layer of the model\n",
        "x = layers.GRU(32, recurrent_dropout=0.5, return_sequences=True)(inputs)\n",
        "x = layers.GRU(32, recurrent_dropout=0.5)(x)\n",
        "x = layers.Dropout(0.5)(x)\n",
        "outputs = layers.Dense(1)(x)\n",
        "model = keras.Model(inputs, outputs)\n",
        "# Specifying a callback list to be utilized in training.\n",
        "callbacks = [\n",
        "    keras.callbacks.ModelCheckpoint(\"jena_stacked_gru_dropout.x\",\n",
        "                                    save_best_only=True)\n",
        "]\n",
        "model.compile(optimizer=\"rmsprop\", loss=\"mse\", metrics=[\"mae\"])\n",
        "history = model.fit(train_dataset,\n",
        "                    epochs=5,\n",
        "                    validation_data=val_dataset,\n",
        "                    callbacks=callbacks)\n",
        "model = keras.models.load_model(\"jena_stacked_gru_dropout.x\")\n",
        "print(f\"Test MAE: {model.evaluate(test_dataset)[1]:.2f}\")  # Printing the MAE for test dataset"
      ]
    },
    {
      "cell_type": "markdown",
      "source": [
        "We received\n",
        "\n",
        "Validation MAE: 2.3444\n",
        "\n",
        "Test MAE : 2.46"
      ],
      "metadata": {
        "id": "D9bo8lSsUM3X"
      }
    },
    {
      "cell_type": "markdown",
      "metadata": {
        "id": "bpILUpmA-x_M"
      },
      "source": [
        "**8th Model:**\n",
        "\n",
        "\n",
        "---\n",
        "\n",
        "\n",
        "***Bidirectional RNN***"
      ]
    },
    {
      "cell_type": "markdown",
      "metadata": {
        "id": "XCFMhbIW-x_M"
      },
      "source": [
        "**Computing the Bidirectional LSTM**"
      ]
    },
    {
      "cell_type": "code",
      "execution_count": 3,
      "metadata": {
        "id": "Er5SUlPk-x_M",
        "colab": {
          "base_uri": "https://localhost:8080/",
          "height": 207
        },
        "outputId": "17eb876d-c5a7-4fa6-ef9b-0187a38f6463"
      },
      "outputs": [
        {
          "output_type": "error",
          "ename": "NameError",
          "evalue": "name 'keras' is not defined",
          "traceback": [
            "\u001b[0;31m---------------------------------------------------------------------------\u001b[0m",
            "\u001b[0;31mNameError\u001b[0m                                 Traceback (most recent call last)",
            "\u001b[0;32m<ipython-input-3-2f092585a653>\u001b[0m in \u001b[0;36m<cell line: 1>\u001b[0;34m()\u001b[0m\n\u001b[0;32m----> 1\u001b[0;31m \u001b[0minputs\u001b[0m \u001b[0;34m=\u001b[0m \u001b[0mkeras\u001b[0m\u001b[0;34m.\u001b[0m\u001b[0mInput\u001b[0m\u001b[0;34m(\u001b[0m\u001b[0mshape\u001b[0m\u001b[0;34m=\u001b[0m\u001b[0;34m(\u001b[0m\u001b[0msequence_length\u001b[0m\u001b[0;34m,\u001b[0m \u001b[0mpmry_data\u001b[0m\u001b[0;34m.\u001b[0m\u001b[0mshape\u001b[0m\u001b[0;34m[\u001b[0m\u001b[0;34m-\u001b[0m\u001b[0;36m1\u001b[0m\u001b[0;34m]\u001b[0m\u001b[0;34m)\u001b[0m\u001b[0;34m)\u001b[0m\u001b[0;34m\u001b[0m\u001b[0;34m\u001b[0m\u001b[0m\n\u001b[0m\u001b[1;32m      2\u001b[0m \u001b[0mx\u001b[0m \u001b[0;34m=\u001b[0m \u001b[0mlayers\u001b[0m\u001b[0;34m.\u001b[0m\u001b[0mBidirectional\u001b[0m\u001b[0;34m(\u001b[0m\u001b[0mlayers\u001b[0m\u001b[0;34m.\u001b[0m\u001b[0mLSTM\u001b[0m\u001b[0;34m(\u001b[0m\u001b[0;36m16\u001b[0m\u001b[0;34m)\u001b[0m\u001b[0;34m)\u001b[0m\u001b[0;34m(\u001b[0m\u001b[0minputs\u001b[0m\u001b[0;34m)\u001b[0m                    \u001b[0;31m# Using the Bidirectional function for the model\u001b[0m\u001b[0;34m\u001b[0m\u001b[0;34m\u001b[0m\u001b[0m\n\u001b[1;32m      3\u001b[0m \u001b[0moutputs\u001b[0m \u001b[0;34m=\u001b[0m \u001b[0mlayers\u001b[0m\u001b[0;34m.\u001b[0m\u001b[0mDense\u001b[0m\u001b[0;34m(\u001b[0m\u001b[0;36m1\u001b[0m\u001b[0;34m)\u001b[0m\u001b[0;34m(\u001b[0m\u001b[0mx\u001b[0m\u001b[0;34m)\u001b[0m\u001b[0;34m\u001b[0m\u001b[0;34m\u001b[0m\u001b[0m\n\u001b[1;32m      4\u001b[0m \u001b[0mmodel\u001b[0m \u001b[0;34m=\u001b[0m \u001b[0mkeras\u001b[0m\u001b[0;34m.\u001b[0m\u001b[0mModel\u001b[0m\u001b[0;34m(\u001b[0m\u001b[0minputs\u001b[0m\u001b[0;34m,\u001b[0m \u001b[0moutputs\u001b[0m\u001b[0;34m)\u001b[0m\u001b[0;34m\u001b[0m\u001b[0;34m\u001b[0m\u001b[0m\n\u001b[1;32m      5\u001b[0m \u001b[0;34m\u001b[0m\u001b[0m\n",
            "\u001b[0;31mNameError\u001b[0m: name 'keras' is not defined"
          ]
        }
      ],
      "source": [
        "inputs = keras.Input(shape=(sequence_length, pmry_data.shape[-1]))\n",
        "x = layers.Bidirectional(layers.LSTM(16))(inputs)                    # Using the Bidirectional function for the model\n",
        "outputs = layers.Dense(1)(x)\n",
        "model = keras.Model(inputs, outputs)\n",
        "\n",
        "model.compile(optimizer=\"rmsprop\", loss=\"mse\", metrics=[\"mae\"])\n",
        "history = model.fit(train_dataset,\n",
        "                    epochs=5,\n",
        "                    validation_data=val_dataset)\n",
        "test_mae = model.evaluate(test_dataset)[1]\n",
        "print(f\"Test MAE: {test_mae:.2f}\")    # Printing The Testing dataset MAE"
      ]
    },
    {
      "cell_type": "markdown",
      "source": [
        "We received\n",
        "\n",
        "Validation MAE: 2.5226\n",
        "\n",
        "Test MAE : 2.60"
      ],
      "metadata": {
        "id": "FomxKUisUSjL"
      }
    },
    {
      "cell_type": "code",
      "source": [
        "import matplotlib.pyplot as plt\n",
        "loss = history.history[\"mae\"]\n",
        "val_loss = history.history[\"val_mae\"]\n",
        "epochs = range(1, len(loss) + 1)\n",
        "plt.figure()\n",
        "plt.plot(epochs, loss, color=\"grey\", linestyle=\"solid\", label=\"Training MAE\")\n",
        "plt.plot(epochs, val_loss, color=\"blue\", linestyle=\"dotted\", label=\"Validation MAE\")\n",
        "plt.title(\"Training and validation MAE\")\n",
        "plt.xlabel(\"Epochs Values\")\n",
        "plt.ylabel(\"MAE Values\")\n",
        "plt.legend()\n",
        "plt.show()"
      ],
      "metadata": {
        "id": "LHvUhGwi-UcY",
        "colab": {
          "base_uri": "https://localhost:8080/",
          "height": 472
        },
        "outputId": "8d283d7c-d42e-4946-a26f-3483a48d0a65"
      },
      "execution_count": null,
      "outputs": [
        {
          "output_type": "display_data",
          "data": {
            "text/plain": [
              "<Figure size 640x480 with 1 Axes>"
            ],
            "image/png": "[encoded data removed]"
          },
          "metadata": {}
        }
      ]
    },
    {
      "cell_type": "markdown",
      "source": [
        "**9th Model:**\n",
        "\n",
        "\n",
        "---\n",
        "\n",
        "\n",
        "***Combination Of 1D convent and dropout-regularized LSTM***"
      ],
      "metadata": {
        "id": "EM926bQjUiFb"
      }
    },
    {
      "cell_type": "code",
      "source": [
        "mix_1d_RNN = layers.concatenate([convol_x, lstm_x]) # Using 1D convent and RNN\n",
        "outputs = layers.Dense(1)(mix_1d_RNN)\n",
        "model.compile(optimizer=\"rmsprop\", loss=\"mse\", metrics=[\"mae\"])\n",
        "history = model.fit(train_dataset, epochs=5, validation_data=val_dataset)\n",
        "test_mae = model.evaluate(test_dataset)[1]\n",
        "print(f\"Test MAE: {test_mae:.2f}\") # Printing the Testing MAE"
      ],
      "metadata": {
        "id": "-6D3uVXF0i0i",
        "colab": {
          "base_uri": "https://localhost:8080/"
        },
        "outputId": "766fe14e-5fa1-44c8-e8c7-776e08102e06"
      },
      "execution_count": null,
      "outputs": [
        {
          "output_type": "stream",
          "name": "stdout",
          "text": [
            "Epoch 1/5\n",
            "819/819 [==============================] - 289s 349ms/step - loss: 16.3800 - mae: 3.1180 - val_loss: 9.4154 - val_mae: 2.4084\n",
            "Epoch 2/5\n",
            "819/819 [==============================] - 284s 347ms/step - loss: 16.1007 - mae: 3.0890 - val_loss: 9.5428 - val_mae: 2.4194\n",
            "Epoch 3/5\n",
            "819/819 [==============================] - 284s 346ms/step - loss: 15.7931 - mae: 3.0641 - val_loss: 9.4338 - val_mae: 2.3982\n",
            "Epoch 4/5\n",
            "819/819 [==============================] - 291s 355ms/step - loss: 15.5608 - mae: 3.0405 - val_loss: 9.5251 - val_mae: 2.4140\n",
            "Epoch 5/5\n",
            "819/819 [==============================] - 296s 361ms/step - loss: 15.3729 - mae: 3.0256 - val_loss: 9.6930 - val_mae: 2.4410\n",
            "405/405 [==============================] - 29s 72ms/step - loss: 10.9585 - mae: 2.5953\n",
            "Test MAE: 2.60\n"
          ]
        }
      ]
    },
    {
      "cell_type": "markdown",
      "source": [
        "We received\n",
        "\n",
        "Validation MAE: 2.4410\n",
        "\n",
        "Test MAE : 2.60"
      ],
      "metadata": {
        "id": "OZ7tZ8NXU6Iv"
      }
    },
    {
      "cell_type": "markdown",
      "source": [
        "**Graph of Training and Validation MAE of the combination of 1D Convent and RNN**"
      ],
      "metadata": {
        "id": "0RNFSJj297sf"
      }
    },
    {
      "cell_type": "code",
      "source": [
        "import matplotlib.pyplot as plt\n",
        "loss = history.history[\"mae\"]\n",
        "val_loss = history.history[\"val_mae\"]\n",
        "epochs = range(1, len(loss) + 1)\n",
        "plt.figure()\n",
        "plt.plot(epochs, loss, color=\"grey\", linestyle=\"solid\", label=\"Training MAE\")\n",
        "plt.plot(epochs, val_loss, color=\"blue\", linestyle=\"dotted\", label=\"Validation MAE\")\n",
        "plt.title(\"Training and validation MAE\")\n",
        "plt.xlabel(\"Epochs Values\")\n",
        "plt.ylabel(\"MAE Values\")\n",
        "plt.legend()\n",
        "plt.show()"
      ],
      "metadata": {
        "id": "aPPzXyjV91-A",
        "colab": {
          "base_uri": "https://localhost:8080/",
          "height": 472
        },
        "outputId": "e75efadd-b464-44e6-facf-ffec09c40531"
      },
      "execution_count": null,
      "outputs": [
        {
          "output_type": "display_data",
          "data": {
            "text/plain": [
              "<Figure size 640x480 with 1 Axes>"
            ],
            "image/png": "[encoded data removed]"
          },
          "metadata": {}
        }
      ]
    }
  ],
  "metadata": {
    "colab": {
      "provenance": [],
      "gpuType": "T4"
    },
    "kernelspec": {
      "display_name": "Python 3",
      "name": "python3"
    },
    "language_info": {
      "codemirror_mode": {
        "name": "ipython",
        "version": 3
      },
      "file_extension": ".py",
      "mimetype": "text/x-python",
      "name": "python",
      "nbconvert_exporter": "python",
      "pygments_lexer": "ipython3",
      "version": "3.7.0"
    },
    "accelerator": "GPU"
  },
  "nbformat": 4,
  "nbformat_minor": 0
}